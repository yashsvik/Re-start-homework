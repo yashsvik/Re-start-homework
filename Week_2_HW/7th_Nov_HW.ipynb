{
 "cells": [
  {
   "cell_type": "code",
   "execution_count": 41,
   "metadata": {},
   "outputs": [
    {
     "name": "stdout",
     "output_type": "stream",
     "text": [
      " |  |  |\n",
      "---------\n",
      " |  |  |\n",
      "---------\n",
      " |  |  |\n"
     ]
    }
   ],
   "source": [
    "n = 2 \n",
    "c = 3 + 3*n \n",
    "\n",
    "f1 = (\" \" + \"|\" + n * \" \" + \"|\" + n * \" \" + \"|\")\n",
    "f2 = (\"-\" * c)\n",
    "\n",
    "print (f1)\n",
    "print (f2)\n",
    "print (f1)\n",
    "print (f2)\n",
    "print (f1)\n",
    "\n"
   ]
  }
 ],
 "metadata": {
  "kernelspec": {
   "display_name": "Python 3",
   "language": "python",
   "name": "python3"
  },
  "language_info": {
   "codemirror_mode": {
    "name": "ipython",
    "version": 3
   },
   "file_extension": ".py",
   "mimetype": "text/x-python",
   "name": "python",
   "nbconvert_exporter": "python",
   "pygments_lexer": "ipython3",
   "version": "3.12.0"
  }
 },
 "nbformat": 4,
 "nbformat_minor": 2
}
