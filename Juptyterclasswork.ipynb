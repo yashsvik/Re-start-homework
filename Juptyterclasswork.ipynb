{
 "cells": [
  {
   "cell_type": "code",
   "execution_count": 7,
   "metadata": {},
   "outputs": [
    {
     "name": "stdout",
     "output_type": "stream",
     "text": [
      "2\n"
     ]
    }
   ],
   "source": [
    "i = 2\n",
    "print(i)"
   ]
  },
  {
   "cell_type": "code",
   "execution_count": 9,
   "metadata": {},
   "outputs": [
    {
     "data": {
      "text/plain": [
       "'Hello world'"
      ]
     },
     "execution_count": 9,
     "metadata": {},
     "output_type": "execute_result"
    }
   ],
   "source": [
    "j = \"Hello world\"\n",
    "j"
   ]
  },
  {
   "cell_type": "code",
   "execution_count": 10,
   "metadata": {},
   "outputs": [
    {
     "data": {
      "text/plain": [
       "'Savi'"
      ]
     },
     "execution_count": 10,
     "metadata": {},
     "output_type": "execute_result"
    }
   ],
   "source": [
    "a = input(\"what is your name?\")\n",
    "a\n",
    "          "
   ]
  },
  {
   "cell_type": "code",
   "execution_count": 11,
   "metadata": {},
   "outputs": [
    {
     "data": {
      "text/plain": [
       "True"
      ]
     },
     "execution_count": 11,
     "metadata": {},
     "output_type": "execute_result"
    }
   ],
   "source": [
    "my_boolean = True\n",
    "my_boolean"
   ]
  },
  {
   "cell_type": "code",
   "execution_count": 13,
   "metadata": {},
   "outputs": [
    {
     "data": {
      "text/plain": [
       "bool"
      ]
     },
     "execution_count": 13,
     "metadata": {},
     "output_type": "execute_result"
    }
   ],
   "source": [
    "type(True)"
   ]
  },
  {
   "cell_type": "code",
   "execution_count": 12,
   "metadata": {},
   "outputs": [
    {
     "data": {
      "text/plain": [
       "'SAVIKASHYAP'"
      ]
     },
     "execution_count": 12,
     "metadata": {},
     "output_type": "execute_result"
    }
   ],
   "source": [
    "s = \"SaviKashyap\"\n",
    "s = s.upper()\n",
    "s"
   ]
  },
  {
   "cell_type": "code",
   "execution_count": 23,
   "metadata": {},
   "outputs": [
    {
     "data": {
      "text/plain": [
       "'SaviKashyap'"
      ]
     },
     "execution_count": 23,
     "metadata": {},
     "output_type": "execute_result"
    }
   ],
   "source": [
    "s = \"SaviKashyap\"\n",
    "s.lower()\n",
    "s"
   ]
  },
  {
   "cell_type": "code",
   "execution_count": 16,
   "metadata": {},
   "outputs": [
    {
     "data": {
      "text/plain": [
       "'multigrain'"
      ]
     },
     "execution_count": 16,
     "metadata": {},
     "output_type": "execute_result"
    }
   ],
   "source": [
    "l = [\"Eggs\", \"Jam\", \"Bread\", (\"multigrain\", 9)]\n",
    "l[-1][0]\n",
    "     "
   ]
  },
  {
   "cell_type": "code",
   "execution_count": 17,
   "metadata": {},
   "outputs": [
    {
     "data": {
      "text/plain": [
       "4"
      ]
     },
     "execution_count": 17,
     "metadata": {},
     "output_type": "execute_result"
    }
   ],
   "source": [
    "len(l)"
   ]
  },
  {
   "cell_type": "code",
   "execution_count": 18,
   "metadata": {},
   "outputs": [
    {
     "data": {
      "text/plain": [
       "2"
      ]
     },
     "execution_count": 18,
     "metadata": {},
     "output_type": "execute_result"
    }
   ],
   "source": [
    "len(l[-1])"
   ]
  },
  {
   "cell_type": "code",
   "execution_count": 19,
   "metadata": {},
   "outputs": [
    {
     "data": {
      "text/plain": [
       "'I love Friday'"
      ]
     },
     "execution_count": 19,
     "metadata": {},
     "output_type": "execute_result"
    }
   ],
   "source": [
    "s = \"I love Friday\"\n",
    "s[0:len(s)]"
   ]
  },
  {
   "cell_type": "code",
   "execution_count": 17,
   "metadata": {},
   "outputs": [
    {
     "name": "stdout",
     "output_type": "stream",
     "text": [
      "['Bula']\n",
      "['Bula', 'This is a string']\n",
      "['Hi', 'Bula', 'This is a string']\n",
      "['Hi', 'Bula']\n",
      "['Bula']\n"
     ]
    }
   ],
   "source": [
    "new_list = [\"Bula\"]\n",
    "print(new_list)\n",
    "new_list.append(\"This is a string\")\n",
    "print(new_list)\n",
    "new_list.insert(0,\"Hi\")\n",
    "print(new_list)\n",
    "new_list.pop()\n",
    "print(new_list)\n",
    "new_list.pop(0)\n",
    "print(new_list)"
   ]
  },
  {
   "cell_type": "code",
   "execution_count": 23,
   "metadata": {},
   "outputs": [
    {
     "data": {
      "text/plain": [
       "[12, 9, 6, 3, 0]"
      ]
     },
     "execution_count": 23,
     "metadata": {},
     "output_type": "execute_result"
    }
   ],
   "source": [
    "Fiji = [0, 9, 3, 6, 12]\n",
    "Fiji.sort(reverse=True)\n",
    "Fiji"
   ]
  },
  {
   "cell_type": "code",
   "execution_count": 29,
   "metadata": {},
   "outputs": [
    {
     "name": "stdout",
     "output_type": "stream",
     "text": [
      "[0, 9, 3, 6, 12]\n",
      "[12, 9, 6, 3, 0]\n"
     ]
    }
   ],
   "source": [
    "Fiji = [0, 9, 3, 6, int(\"12\")]\n",
    "print(Fiji)\n",
    "print(sorted(Fiji, reverse=True))"
   ]
  },
  {
   "cell_type": "code",
   "execution_count": 28,
   "metadata": {},
   "outputs": [
    {
     "name": "stdout",
     "output_type": "stream",
     "text": [
      "['Cat', 'Dog', 'Pets', 'rabbits']\n"
     ]
    }
   ],
   "source": [
    "z = [\"Cat\", \"Dog\", \"Pets\", \"rabbits\" ]\n",
    "print(sorted(z))"
   ]
  },
  {
   "cell_type": "code",
   "execution_count": 42,
   "metadata": {},
   "outputs": [
    {
     "name": "stdout",
     "output_type": "stream",
     "text": [
      "in a year you will be 24\n"
     ]
    }
   ],
   "source": [
    "age = input(\"How old are you?\")\n",
    "age = int(age) + 1\n",
    "print(f\"in a year you will be {age}\")"
   ]
  },
  {
   "cell_type": "code",
   "execution_count": 44,
   "metadata": {},
   "outputs": [
    {
     "name": "stdout",
     "output_type": "stream",
     "text": [
      "61\n"
     ]
    }
   ],
   "source": [
    "HOURLY_SALARY = 50 \n",
    "\n",
    "from typing import Final\n",
    "\n",
    "NEW_HOURLY_SALARY : Final[int] = 60\n",
    "\n",
    "NEW_HOURLY_SALARY = 61\n",
    "\n",
    "print(NEW_HOURLY_SALARY)"
   ]
  },
  {
   "cell_type": "code",
   "execution_count": 1,
   "metadata": {},
   "outputs": [
    {
     "ename": "TypeError",
     "evalue": "'int' object does not support item assignment",
     "output_type": "error",
     "traceback": [
      "\u001b[0;31m---------------------------------------------------------------------------\u001b[0m",
      "\u001b[0;31mTypeError\u001b[0m                                 Traceback (most recent call last)",
      "\u001b[1;32m/Users/savikashyap/Desktop/Re-start-homework/Juptyterclasswork.ipynb Cell 18\u001b[0m line \u001b[0;36m2\n\u001b[1;32m      <a href='vscode-notebook-cell:/Users/savikashyap/Desktop/Re-start-homework/Juptyterclasswork.ipynb#X26sZmlsZQ%3D%3D?line=0'>1</a>\u001b[0m my_tuples \u001b[39m=\u001b[39m (\u001b[39m3\u001b[39m)\n\u001b[0;32m----> <a href='vscode-notebook-cell:/Users/savikashyap/Desktop/Re-start-homework/Juptyterclasswork.ipynb#X26sZmlsZQ%3D%3D?line=1'>2</a>\u001b[0m my_tuples[\u001b[39m0\u001b[39;49m] \u001b[39m=\u001b[39m \u001b[39m2\u001b[39m\n",
      "\u001b[0;31mTypeError\u001b[0m: 'int' object does not support item assignment"
     ]
    }
   ],
   "source": [
    "my_tuples = (3)\n",
    "my_tuples[0] = 2"
   ]
  },
  {
   "cell_type": "code",
   "execution_count": 9,
   "metadata": {},
   "outputs": [
    {
     "name": "stdout",
     "output_type": "stream",
     "text": [
      "{'Mangoes', 'Bananas', 'Apples', 'Peaches', 'Cherries'}\n",
      "{'Apples'}\n",
      "{'Mangoes', 'Cherries'}\n",
      "{'Peaches', 'Bananas'}\n"
     ]
    },
    {
     "data": {
      "text/plain": [
       "['Apples', 'Bananas', 'Cherries', 'Mangoes', 'Peaches']"
      ]
     },
     "execution_count": 9,
     "metadata": {},
     "output_type": "execute_result"
    }
   ],
   "source": [
    "my_set = {\"Apples\", \"Mangoes\", \"Cherries\"}\n",
    "another_set = {\"Apples\", \"Peaches\", \"Bananas\"}\n",
    "union = my_set.union(another_set)\n",
    "print(union)\n",
    "intersection = my_set.intersection(another_set)\n",
    "print(intersection)\n",
    "only_mine = my_set.difference(another_set)\n",
    "print (only_mine)\n",
    "only_another_set = another_set.difference(my_set)\n",
    "print(only_another_set)\n",
    "sorted(list(union))"
   ]
  },
  {
   "cell_type": "code",
   "execution_count": 10,
   "metadata": {},
   "outputs": [
    {
     "name": "stdout",
     "output_type": "stream",
     "text": [
      "Savi\n",
      "23\n",
      "24\n"
     ]
    }
   ],
   "source": [
    "my_info = {\"name\": \"Savi\", \"age\": 23}\n",
    "name = my_info[\"name\"]\n",
    "age = my_info[\"age\"]\n",
    "print(name)\n",
    "print(age)\n",
    "my_info[\"age\"] = my_info[\"age\"] + 1 \n",
    "print(my_info[\"age\"])"
   ]
  },
  {
   "cell_type": "code",
   "execution_count": 12,
   "metadata": {},
   "outputs": [
    {
     "name": "stdout",
     "output_type": "stream",
     "text": [
      "Arpita\n"
     ]
    }
   ],
   "source": [
    "my_dict = {\"sister's_name\": \"Arpita\"}\n",
    "sis = my_dict[\"sister's_name\"]\n",
    "print(sis)"
   ]
  },
  {
   "cell_type": "code",
   "execution_count": 13,
   "metadata": {},
   "outputs": [
    {
     "name": "stdout",
     "output_type": "stream",
     "text": [
      "Hello, welcome to Re/Start\n",
      "\n"
     ]
    }
   ],
   "source": [
    "f = open (\"text.txt\", \"r\")\n",
    "print(f.read())"
   ]
  },
  {
   "cell_type": "code",
   "execution_count": 18,
   "metadata": {},
   "outputs": [
    {
     "name": "stdout",
     "output_type": "stream",
     "text": [
      "Hello, welcome to Re/Start\n",
      "\n",
      "I hope you're doing well\n"
     ]
    }
   ],
   "source": [
    "f = open (\"text.txt\", \"r\")\n",
    "print(f.readline())\n",
    "print(f.readline())\n"
   ]
  },
  {
   "cell_type": "code",
   "execution_count": 29,
   "metadata": {},
   "outputs": [
    {
     "name": "stdout",
     "output_type": "stream",
     "text": [
      "HELLO, WELCOME TO RE/START!\n",
      "\n",
      "Everytime\n",
      "I HOPE YOU'RE DOING WELL.\n",
      "\n",
      "Everytime\n",
      "HOW ARE YOU LIKING THE COURSE SO FAR? \n",
      "\n",
      "Everytime\n",
      "I AM ENOJOYING IT. \n",
      "\n",
      "Everytime\n",
      "FUN FACT: THIS COURSE STARTED ON MY BIRTHDAY\n",
      "\n",
      "Everytime\n",
      "finish\n"
     ]
    }
   ],
   "source": [
    "f = open (\"text.txt\", \"r\")\n",
    "for x in f: \n",
    "    print(x.upper())\n",
    "    print(\"Everytime\")\n",
    "print(\"finish\")"
   ]
  },
  {
   "cell_type": "code",
   "execution_count": 40,
   "metadata": {},
   "outputs": [
    {
     "name": "stdout",
     "output_type": "stream",
     "text": [
      "Your are a cat person\n"
     ]
    }
   ],
   "source": [
    "favourite_animal = input (\"what is your favourite animal?\")\n",
    "if favourite_animal == \"dog\": \n",
    "    print (\"You are a dog person\")\n",
    "elif favourite_animal == \"cat\": \n",
    "    print (\"Your are a cat person\")\n",
    "else:\n",
    "    print (\"You are an animal hater\")"
   ]
  },
  {
   "cell_type": "code",
   "execution_count": 35,
   "metadata": {},
   "outputs": [
    {
     "data": {
      "text/plain": [
       "False"
      ]
     },
     "execution_count": 35,
     "metadata": {},
     "output_type": "execute_result"
    }
   ],
   "source": [
    "4<3"
   ]
  },
  {
   "cell_type": "code",
   "execution_count": 2,
   "metadata": {},
   "outputs": [
    {
     "name": "stdout",
     "output_type": "stream",
     "text": [
      "cat\n"
     ]
    }
   ],
   "source": [
    "favourite_animal = \"\"\n",
    "while favourite_animal != \"cat\" and favourite_animal != \"dog\": \n",
    "    favourite_animal = input(\"Are you a dog person or a cat person?\")\n",
    "    print (favourite_animal)"
   ]
  }
 ],
 "metadata": {
  "kernelspec": {
   "display_name": "Python 3",
   "language": "python",
   "name": "python3"
  },
  "language_info": {
   "codemirror_mode": {
    "name": "ipython",
    "version": 3
   },
   "file_extension": ".py",
   "mimetype": "text/x-python",
   "name": "python",
   "nbconvert_exporter": "python",
   "pygments_lexer": "ipython3",
   "version": "3.12.0"
  }
 },
 "nbformat": 4,
 "nbformat_minor": 2
}
