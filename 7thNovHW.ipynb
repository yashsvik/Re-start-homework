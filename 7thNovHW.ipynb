{
 "cells": [
  {
   "cell_type": "code",
   "execution_count": 2,
   "metadata": {},
   "outputs": [
    {
     "name": "stdout",
     "output_type": "stream",
     "text": [
      " |  | \n",
      "-------\n",
      " |  | \n",
      "-------\n",
      "\n",
      "Tic-tac-toe layout saved to tic_tac_toe_2x2.txt\n"
     ]
    }
   ],
   "source": [
    "n = 2  # You can configure the size of your tic-tac-toe board here\n",
    "\n",
    "# Create a string representation of the tic-tac-toe board\n",
    "tic_tac_toe_board = \"\"\n",
    "for row in range(n):\n",
    "    for col in range(n):\n",
    "        tic_tac_toe_board += \" | \"\n",
    "    tic_tac_toe_board += \"\\n\" + \"-\" * (4 * n - 1) + \"\\n\"\n",
    "\n",
    "# Print the tic-tac-toe board\n",
    "print(tic_tac_toe_board)\n",
    "\n",
    "# Save the tic-tac-toe layout to a text file\n",
    "file_name = f\"tic_tac_toe_{n}x{n}.txt\"\n",
    "with open(file_name, \"w\") as file:\n",
    "    file.write(tic_tac_toe_board)\n",
    "\n",
    "print(f\"Tic-tac-toe layout saved to {file_name}\")\n"
   ]
  }
 ],
 "metadata": {
  "kernelspec": {
   "display_name": "Python 3",
   "language": "python",
   "name": "python3"
  },
  "language_info": {
   "codemirror_mode": {
    "name": "ipython",
    "version": 3
   },
   "file_extension": ".py",
   "mimetype": "text/x-python",
   "name": "python",
   "nbconvert_exporter": "python",
   "pygments_lexer": "ipython3",
   "version": "3.12.0"
  }
 },
 "nbformat": 4,
 "nbformat_minor": 2
}
